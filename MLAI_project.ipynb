{
  "nbformat": 4,
  "nbformat_minor": 0,
  "metadata": {
    "colab": {
      "provenance": [],
      "authorship_tag": "ABX9TyNmEd0UNId+4k3B0J/K1Fs7",
      "include_colab_link": true
    },
    "kernelspec": {
      "name": "python3",
      "display_name": "Python 3"
    },
    "language_info": {
      "name": "python"
    }
  },
  "cells": [
    {
      "cell_type": "markdown",
      "metadata": {
        "id": "view-in-github",
        "colab_type": "text"
      },
      "source": [
        "<a href=\"https://colab.research.google.com/github/dead96pool/stress_detection_mlai/blob/main/MLAI_project.ipynb\" target=\"_parent\"><img src=\"https://colab.research.google.com/assets/colab-badge.svg\" alt=\"Open In Colab\"/></a>"
      ]
    },
    {
      "cell_type": "code",
      "source": [
        "# git repo clone\n",
        "!git clone https://github.com/dead96pool/datasets\n",
        "# removing the clone\n",
        "#!rm -rf datasets"
      ],
      "metadata": {
        "id": "uxFD9bEUQLqX",
        "colab": {
          "base_uri": "https://localhost:8080/"
        },
        "outputId": "def7f7ca-121a-4e2e-eeb1-e942f26a3f07"
      },
      "execution_count": null,
      "outputs": [
        {
          "output_type": "stream",
          "name": "stdout",
          "text": [
            "fatal: destination path 'datasets' already exists and is not an empty directory.\n"
          ]
        }
      ]
    },
    {
      "cell_type": "code",
      "source": [],
      "metadata": {
        "id": "DUrj7SlUN9JZ"
      },
      "execution_count": null,
      "outputs": []
    },
    {
      "cell_type": "code",
      "execution_count": null,
      "metadata": {
        "id": "tH-VZwscPvAV"
      },
      "outputs": [],
      "source": [
        "calm_path = \"/content/datasets/machine_learning/mlai_project/2019_stress_detection_dataset/CALM\"\n",
        "stress_path = \"/content/datasets/machine_learning/mlai_project/2019_stress_detection_dataset/STRESS\""
      ]
    }
  ]
}